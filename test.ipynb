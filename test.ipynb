{
 "cells": [
  {
   "cell_type": "code",
   "execution_count": 34,
   "metadata": {},
   "outputs": [],
   "source": [
    "import torch\n",
    "import numpy as np"
   ]
  },
  {
   "cell_type": "code",
   "execution_count": null,
   "metadata": {},
   "outputs": [],
   "source": [
    "def rowwise_in(a, b):\n",
    "    shape1 = a.shape[0]\n",
    "    shape2 = b.shape[0]\n",
    "    c  = a.shape[1]\n",
    "    assert c == b.shape[1] , \"Tensors must have same number of columns\"\n",
    "\n",
    "    a_expand = a.unsqueeze(1).expand(-1,shape2,c)\n",
    "    b_expand = b.unsqueeze(0).expand(shape1,-1,c)\n",
    "    # element-wise equality\n",
    "    mask = (a_expand == b_expand).all(-1).any(-1)\n",
    "    return mask"
   ]
  },
  {
   "cell_type": "code",
   "execution_count": 32,
   "metadata": {},
   "outputs": [],
   "source": [
    "a = torch.tensor([[1,2,3], [4,5,6], [2,3,4]])\n",
    "b = torch.tensor([1,2,3])"
   ]
  },
  {
   "cell_type": "code",
   "execution_count": 37,
   "metadata": {},
   "outputs": [
    {
     "ename": "AttributeError",
     "evalue": "module 'torch' has no attribute 'vmap'",
     "output_type": "error",
     "traceback": [
      "\u001b[0;31m---------------------------------------------------------------------------\u001b[0m",
      "\u001b[0;31mAttributeError\u001b[0m                            Traceback (most recent call last)",
      "Cell \u001b[0;32mIn[37], line 1\u001b[0m\n\u001b[0;32m----> 1\u001b[0m torch\u001b[39m.\u001b[39;49mvmap(\u001b[39mlambda\u001b[39;00m t1, t2: torch\u001b[39m.\u001b[39misin(t1,t2))(tensor_1, target_tensor)\n",
      "\u001b[0;31mAttributeError\u001b[0m: module 'torch' has no attribute 'vmap'"
     ]
    }
   ],
   "source": [
    "\n",
    "torch.vmap(lambda t1, t2: torch.isin(t1,t2))(tensor_1, target_tensor)"
   ]
  }
 ],
 "metadata": {
  "kernelspec": {
   "display_name": "SimKGC",
   "language": "python",
   "name": "python3"
  },
  "language_info": {
   "codemirror_mode": {
    "name": "ipython",
    "version": 3
   },
   "file_extension": ".py",
   "mimetype": "text/x-python",
   "name": "python",
   "nbconvert_exporter": "python",
   "pygments_lexer": "ipython3",
   "version": "3.10.9"
  },
  "orig_nbformat": 4
 },
 "nbformat": 4,
 "nbformat_minor": 2
}
